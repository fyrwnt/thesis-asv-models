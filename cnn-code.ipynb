{
 "cells": [
  {
   "cell_type": "markdown",
   "metadata": {},
   "source": [
    "# Loading lib and data"
   ]
  },
  {
   "cell_type": "code",
   "execution_count": null,
   "metadata": {
    "_cell_guid": "b1076dfc-b9ad-4769-8c92-a6c4dae69d19",
    "_uuid": "8f2839f25d086af736a60e9eeb907d3b93b6e0e5",
    "execution": {
     "iopub.execute_input": "2025-03-15T06:47:32.640894Z",
     "iopub.status.busy": "2025-03-15T06:47:32.640571Z",
     "iopub.status.idle": "2025-03-15T06:47:32.651933Z",
     "shell.execute_reply": "2025-03-15T06:47:32.651134Z",
     "shell.execute_reply.started": "2025-03-15T06:47:32.640873Z"
    },
    "trusted": true
   },
   "outputs": [],
   "source": [
    "import random\n",
    "import tensorflow as tf\n",
    "import numpy as np\n",
    "import matplotlib.pyplot as plt\n",
    "\n",
    "seed = 42\n",
    "tf.random.set_seed(seed)\n",
    "np.random.seed(seed)\n",
    "random.seed(seed)"
   ]
  },
  {
   "cell_type": "code",
   "execution_count": 38,
   "metadata": {
    "execution": {
     "iopub.execute_input": "2025-03-15T07:47:47.105977Z",
     "iopub.status.busy": "2025-03-15T07:47:47.105632Z",
     "iopub.status.idle": "2025-03-15T07:48:07.186824Z",
     "shell.execute_reply": "2025-03-15T07:48:07.186091Z",
     "shell.execute_reply.started": "2025-03-15T07:47:47.105952Z"
    },
    "trusted": true
   },
   "outputs": [],
   "source": [
    "# Loading all the data from dataset\n",
    "import pandas as pd\n",
    "import numpy as np\n",
    "# ===== Dataset Notes =====\n",
    "# ```\n",
    "# Ver 6 logmel-mfcc-set = MFCC 13, LOGMEL 128, Group_Delay, Wav2Vec2\n",
    "# Ver 5 logmel-mfcc-set = MFCC 40 with augmentation\n",
    "# Ver 4 logmel-mfcc-set = MFCC 40\n",
    "# Ver 1 logmel-mfcc-set = MFCC & Logmel 13\n",
    "#\n",
    "# CURRENTLY IN: Version 1\n",
    "# ```\n",
    "\n",
    "\n",
    "# DATA_PATH = '/kaggle/input/logmel-mfcc-set/'\n",
    "# DATA_PATH = '/kaggle/input/mfcc-wo-swf/'\n",
    "DATA_PATH = '/kaggle/input/mfcc13-wo-swf/'\n",
    "# DATA_PATH = '/kaggle/input/mfcc-no-filtering/'\n",
    "\n",
    "# =========== MFCC ===========\n",
    "# X_train_mfcc = pd.read_pickle(DATA_PATH + 'X_train_mfcc.pkl')\n",
    "# X_dev_mfcc = pd.read_pickle(DATA_PATH + 'X_dev_mfcc.pkl')\n",
    "# X_eval_mfcc = pd.read_pickle(DATA_PATH + 'X_eval_mfcc.pkl')\n",
    "\n",
    "# y_train_mfcc = pd.read_pickle(DATA_PATH + 'y_train_mfcc.pkl')\n",
    "# y_dev_mfcc = pd.read_pickle(DATA_PATH + 'y_dev_mfcc.pkl')\n",
    "# y_eval_mfcc = pd.read_pickle(DATA_PATH + 'y_eval_mfcc.pkl')\n",
    "\n",
    "# ============================ SEPARATOR mfcc no filtering ============================\n",
    "n_mfcc = 13 # 40 atau 13\n",
    "filters = 'wf'  # 'sf', 'wf', or 'swf'\n",
    "\n",
    "# Construct file names dynamically\n",
    "file_suffix = f\"_wo_{filters}_{n_mfcc}.pkl\"\n",
    "\n",
    "# X_train_mfcc = pd.read_pickle(DATA_PATH + f'X_train_mfcc{file_suffix}')\n",
    "# X_dev_mfcc = pd.read_pickle(DATA_PATH + f'X_dev_mfcc{file_suffix}')\n",
    "# X_eval_mfcc = pd.read_pickle(DATA_PATH + f'X_eval_mfcc{file_suffix}')\n",
    "\n",
    "# y_train_mfcc = pd.read_pickle(DATA_PATH + f'y_train_mfcc{file_suffix}')\n",
    "# y_dev_mfcc = pd.read_pickle(DATA_PATH + f'y_dev_mfcc{file_suffix}')\n",
    "# y_eval_mfcc = pd.read_pickle(DATA_PATH + f'y_eval_mfcc{file_suffix}')\n",
    "\n",
    "# ============================ SEPARATOR mfcc 40 no filtering ============================\n",
    "\n",
    "# X_train_mfcc = pd.read_pickle(DATA_PATH + 'X_train_mfcc_wo_swf.pkl')\n",
    "# X_dev_mfcc = pd.read_pickle(DATA_PATH + 'X_dev_mfcc_wo_swf.pkl')\n",
    "# X_eval_mfcc = pd.read_pickle(DATA_PATH + 'X_eval_mfcc_wo_swf.pkl')\n",
    "\n",
    "# y_train_mfcc = pd.read_pickle(DATA_PATH + 'y_train_mfcc_wo_swf.pkl')\n",
    "# y_dev_mfcc = pd.read_pickle(DATA_PATH + 'y_dev_mfcc_wo_swf.pkl')\n",
    "# y_eval_mfcc = pd.read_pickle(DATA_PATH + 'y_eval_mfcc_wo_swf.pkl')\n",
    "\n",
    "# ============================ SEPARATOR mfcc 13 no filtering ============================\n",
    "\n",
    "X_train_mfcc = pd.read_pickle(DATA_PATH + 'X_train_mfcc_wo_swf_13.pkl')\n",
    "X_dev_mfcc = pd.read_pickle(DATA_PATH + 'X_dev_mfcc_wo_swf_13.pkl')\n",
    "X_eval_mfcc = pd.read_pickle(DATA_PATH + 'X_eval_mfcc_wo_swf_13.pkl')\n",
    "\n",
    "y_train_mfcc = pd.read_pickle(DATA_PATH + 'y_train_mfcc_wo_swf_13.pkl')\n",
    "y_dev_mfcc = pd.read_pickle(DATA_PATH + 'y_dev_mfcc_wo_swf_13.pkl')\n",
    "y_eval_mfcc = pd.read_pickle(DATA_PATH + 'y_eval_mfcc_wo_swf_13.pkl')"
   ]
  },
  {
   "cell_type": "code",
   "execution_count": 39,
   "metadata": {
    "execution": {
     "iopub.execute_input": "2025-03-15T07:48:07.188191Z",
     "iopub.status.busy": "2025-03-15T07:48:07.187915Z",
     "iopub.status.idle": "2025-03-15T07:48:12.166145Z",
     "shell.execute_reply": "2025-03-15T07:48:12.165192Z",
     "shell.execute_reply.started": "2025-03-15T07:48:07.188167Z"
    },
    "trusted": true
   },
   "outputs": [],
   "source": [
    "X_train_mfcc = X_train_mfcc.astype('float32')\n",
    "y_train_mfcc = y_train_mfcc.astype('float32')\n",
    "X_dev_mfcc = X_dev_mfcc.astype('float32')\n",
    "y_dev_mfcc = y_dev_mfcc.astype('float32')\n",
    "X_eval_mfcc = X_eval_mfcc.astype('float32')\n",
    "y_eval_mfcc = y_eval_mfcc.astype('float32')"
   ]
  },
  {
   "cell_type": "markdown",
   "metadata": {},
   "source": [
    "## EER Calculation"
   ]
  },
  {
   "cell_type": "code",
   "execution_count": 2,
   "metadata": {
    "execution": {
     "iopub.execute_input": "2025-03-15T06:40:10.685555Z",
     "iopub.status.busy": "2025-03-15T06:40:10.685227Z",
     "iopub.status.idle": "2025-03-15T06:40:12.824404Z",
     "shell.execute_reply": "2025-03-15T06:40:12.823585Z",
     "shell.execute_reply.started": "2025-03-15T06:40:10.685516Z"
    },
    "trusted": true
   },
   "outputs": [],
   "source": [
    "from sklearn.metrics import classification_report, roc_auc_score, roc_curve\n",
    "def eval_metr(y_true, y_pred, C0, C1, P_target=0.5):\n",
    "    # Compute ROC curve\n",
    "    fpr, tpr, thresholds = roc_curve(y_true, y_pred)\n",
    "    fnr = 1 - tpr  # False Negative Rate (Miss Rate)\n",
    "\n",
    "    # Compute EER\n",
    "    abs_diff = np.abs(fpr - fnr)\n",
    "    eer_index = np.argmin(abs_diff)\n",
    "    eer = (fpr[eer_index] + fnr[eer_index]) / 2\n",
    "\n",
    "    # Compute t-DCF\n",
    "    pi_spoof = P_target  # Prior for spoof\n",
    "    pi_bonafide = 1 - P_target  # Prior for bonafide\n",
    "\n",
    "    # Calculate t-DCF values\n",
    "    tdcf_values = (pi_bonafide * C0 * fnr + pi_spoof * C1 * fpr) / min(pi_bonafide * C0, pi_spoof * C1)\n",
    "\n",
    "    # Find minimum t-DCF\n",
    "    min_tdcf = np.min(tdcf_values)\n",
    "\n",
    "    return eer, min_tdcf"
   ]
  },
  {
   "cell_type": "markdown",
   "metadata": {},
   "source": [
    "# Initializing CNN, Training, and Evaluating"
   ]
  },
  {
   "cell_type": "code",
   "execution_count": null,
   "metadata": {
    "execution": {
     "iopub.execute_input": "2025-03-15T06:40:12.825856Z",
     "iopub.status.busy": "2025-03-15T06:40:12.825527Z",
     "iopub.status.idle": "2025-03-15T06:40:31.758251Z",
     "shell.execute_reply": "2025-03-15T06:40:31.757298Z",
     "shell.execute_reply.started": "2025-03-15T06:40:12.825822Z"
    },
    "trusted": true
   },
   "outputs": [],
   "source": [
    "import tensorflow as tf\n",
    "from tensorflow.keras import layers, models\n",
    "from tensorflow.keras.optimizers import Adam\n",
    "from tensorflow.keras.callbacks import ReduceLROnPlateau, EarlyStopping, ModelCheckpoint\n",
    "from sklearn.model_selection import train_test_split\n",
    "from tensorflow.keras.utils import to_categorical\n",
    "\n",
    "def build_model(input_shape=(298, 13, 1)):\n",
    "    inputs = tf.keras.Input(shape=input_shape)\n",
    "    \n",
    "    # First Time-Distributed 2D Convolution\n",
    "    x = layers.Conv2D(36, kernel_size=(3,3), padding='same', activation='relu')(inputs)\n",
    "    \n",
    "    # Second Time-Distributed 2D Convolution\n",
    "    x = layers.Conv2D(64, kernel_size=(3,3), padding='same', activation='relu')(x)\n",
    "    \n",
    "    # Third Time-Distributed 2D Convolution + MaxPooling\n",
    "    x = layers.Conv2D(64, kernel_size=(3,3), padding='same', activation='relu')(x)\n",
    "    x = layers.MaxPooling2D(pool_size=(1, 2))(x)\n",
    "    \n",
    "    # First Dense Layer\n",
    "    x = layers.Dense(24, activation='relu')(x)\n",
    "    \n",
    "    # Second Dense Layer\n",
    "    x = layers.Dense(24, activation='relu')(x)\n",
    "    \n",
    "    # Flatten Layer\n",
    "    x = layers.Flatten()(x)\n",
    "    \n",
    "    # Final Dense Layer (Output)\n",
    "    outputs = layers.Dense(1, activation='sigmoid')(x)\n",
    "    \n",
    "    model = models.Model(inputs, outputs)\n",
    "    return model\n",
    "\n",
    "def cnn_maker(X_train, y_train, X_dev, y_dev, X_eval, y_eval):\n",
    "    tf.random.set_seed(seed)\n",
    "    np.random.seed(seed)\n",
    "    random.seed(seed)\n",
    "\n",
    "    ### Merging for splitting purposes ###\n",
    "    \n",
    "    # # Merge all datasets\n",
    "    # X_all = np.concatenate([X_train, X_dev, X_eval], axis=0)\n",
    "    # y_all = np.concatenate([y_train, y_dev, y_eval], axis=0)\n",
    "    \n",
    "    # # Shuffle and split into 70-15-15\n",
    "    # X_train, X_temp, y_train, y_temp = train_test_split(X_all, y_all, test_size=0.30, random_state=seed, shuffle=True)\n",
    "    # X_dev, X_eval, y_dev, y_eval = train_test_split(X_temp, y_temp, test_size=0.50, random_state=seed, shuffle=True)\n",
    "\n",
    "    ### ^ ^ ^ Comment if unused ^ ^ ^ ###\n",
    "    \n",
    "    # Add channel axis to the data\n",
    "    X_train = X_train[..., np.newaxis]\n",
    "    X_dev = X_dev[..., np.newaxis]\n",
    "    X_eval = X_eval[..., np.newaxis]\n",
    "\n",
    "    model = build_model(X_train.shape[1:])\n",
    "    model.compile(optimizer=Adam(learning_rate=0.0002), loss='binary_crossentropy', metrics=['accuracy'])\n",
    "\n",
    "    # Print model summary\n",
    "    model.summary()\n",
    "    print(\"\\n\")\n",
    "\n",
    "    # reduce_lr = ReduceLROnPlateau(monitor='val_loss', factor=0.5, patience=3, verbose=1)\n",
    "    early_stopping = EarlyStopping(monitor='val_loss', patience=5, min_delta=1e-4, restore_best_weights=True)\n",
    "    # model_checkpoint = ModelCheckpoint('cnn_base_stft_1.keras', monitor='val_loss', save_best_only=True, verbose=1)\n",
    "    \n",
    "    # Train the model\n",
    "    history = model.fit(X_train, y_train, epochs=50, batch_size=64, validation_data=(X_dev, y_dev),\n",
    "                        callbacks=[early_stopping])\n",
    "\n",
    "    # Evaluate the model on dev data\n",
    "    dev_loss, dev_accuracy = model.evaluate(X_dev, y_dev, verbose=0)\n",
    "    print(\"CNN Model - Dev Accuracy:\", dev_accuracy)\n",
    "        \n",
    "    # Evaluate the model on evaluation data\n",
    "    eval_accuracy = model.evaluate(X_eval, y_eval, verbose=0)[1]\n",
    "    print(\"CNN Model - Eval Accuracy:\", eval_accuracy)\n",
    "\n",
    "    return model, history\n",
    "\n",
    "def plot_training_history(history):\n",
    "    \"\"\"Function to plot training and validation loss/accuracy.\"\"\"\n",
    "    plt.figure(figsize=(12, 5))\n",
    "\n",
    "    # Plot Loss\n",
    "    plt.subplot(1, 2, 1)\n",
    "    plt.plot(history.history['loss'], label='Training Loss')\n",
    "    plt.plot(history.history['val_loss'], label='Validation Loss')\n",
    "    plt.xlabel('Epochs')\n",
    "    plt.ylabel('Loss')\n",
    "    plt.title('Training vs Validation Loss')\n",
    "    plt.legend()\n",
    "\n",
    "    # Plot Accuracy\n",
    "    plt.subplot(1, 2, 2)\n",
    "    plt.plot(history.history['accuracy'], label='Training Accuracy')\n",
    "    plt.plot(history.history['val_accuracy'], label='Validation Accuracy')\n",
    "    plt.xlabel('Epochs')\n",
    "    plt.ylabel('Accuracy')\n",
    "    plt.title('Training vs Validation Accuracy')\n",
    "    plt.legend()\n",
    "\n",
    "    plt.show()"
   ]
  },
  {
   "cell_type": "code",
   "execution_count": 40,
   "metadata": {
    "execution": {
     "iopub.execute_input": "2025-03-15T07:48:12.168008Z",
     "iopub.status.busy": "2025-03-15T07:48:12.167767Z",
     "iopub.status.idle": "2025-03-15T07:49:23.496860Z",
     "shell.execute_reply": "2025-03-15T07:49:23.495926Z",
     "shell.execute_reply.started": "2025-03-15T07:48:12.167989Z"
    },
    "trusted": true
   },
   "outputs": [
    {
     "data": {
      "text/html": [
       "<pre style=\"white-space:pre;overflow-x:auto;line-height:normal;font-family:Menlo,'DejaVu Sans Mono',consolas,'Courier New',monospace\"><span style=\"font-weight: bold\">Model: \"functional_7\"</span>\n",
       "</pre>\n"
      ],
      "text/plain": [
       "\u001b[1mModel: \"functional_7\"\u001b[0m\n"
      ]
     },
     "metadata": {},
     "output_type": "display_data"
    },
    {
     "data": {
      "text/html": [
       "<pre style=\"white-space:pre;overflow-x:auto;line-height:normal;font-family:Menlo,'DejaVu Sans Mono',consolas,'Courier New',monospace\">┏━━━━━━━━━━━━━━━━━━━━━━━━━━━━━━━━━━━━━━┳━━━━━━━━━━━━━━━━━━━━━━━━━━━━━┳━━━━━━━━━━━━━━━━━┓\n",
       "┃<span style=\"font-weight: bold\"> Layer (type)                         </span>┃<span style=\"font-weight: bold\"> Output Shape                </span>┃<span style=\"font-weight: bold\">         Param # </span>┃\n",
       "┡━━━━━━━━━━━━━━━━━━━━━━━━━━━━━━━━━━━━━━╇━━━━━━━━━━━━━━━━━━━━━━━━━━━━━╇━━━━━━━━━━━━━━━━━┩\n",
       "│ input_layer_7 (<span style=\"color: #0087ff; text-decoration-color: #0087ff\">InputLayer</span>)           │ (<span style=\"color: #00d7ff; text-decoration-color: #00d7ff\">None</span>, <span style=\"color: #00af00; text-decoration-color: #00af00\">13</span>, <span style=\"color: #00af00; text-decoration-color: #00af00\">100</span>, <span style=\"color: #00af00; text-decoration-color: #00af00\">1</span>)          │               <span style=\"color: #00af00; text-decoration-color: #00af00\">0</span> │\n",
       "├──────────────────────────────────────┼─────────────────────────────┼─────────────────┤\n",
       "│ conv2d_21 (<span style=\"color: #0087ff; text-decoration-color: #0087ff\">Conv2D</span>)                   │ (<span style=\"color: #00d7ff; text-decoration-color: #00d7ff\">None</span>, <span style=\"color: #00af00; text-decoration-color: #00af00\">13</span>, <span style=\"color: #00af00; text-decoration-color: #00af00\">100</span>, <span style=\"color: #00af00; text-decoration-color: #00af00\">36</span>)         │             <span style=\"color: #00af00; text-decoration-color: #00af00\">360</span> │\n",
       "├──────────────────────────────────────┼─────────────────────────────┼─────────────────┤\n",
       "│ conv2d_22 (<span style=\"color: #0087ff; text-decoration-color: #0087ff\">Conv2D</span>)                   │ (<span style=\"color: #00d7ff; text-decoration-color: #00d7ff\">None</span>, <span style=\"color: #00af00; text-decoration-color: #00af00\">13</span>, <span style=\"color: #00af00; text-decoration-color: #00af00\">100</span>, <span style=\"color: #00af00; text-decoration-color: #00af00\">64</span>)         │          <span style=\"color: #00af00; text-decoration-color: #00af00\">20,800</span> │\n",
       "├──────────────────────────────────────┼─────────────────────────────┼─────────────────┤\n",
       "│ conv2d_23 (<span style=\"color: #0087ff; text-decoration-color: #0087ff\">Conv2D</span>)                   │ (<span style=\"color: #00d7ff; text-decoration-color: #00d7ff\">None</span>, <span style=\"color: #00af00; text-decoration-color: #00af00\">13</span>, <span style=\"color: #00af00; text-decoration-color: #00af00\">100</span>, <span style=\"color: #00af00; text-decoration-color: #00af00\">64</span>)         │          <span style=\"color: #00af00; text-decoration-color: #00af00\">36,928</span> │\n",
       "├──────────────────────────────────────┼─────────────────────────────┼─────────────────┤\n",
       "│ max_pooling2d_7 (<span style=\"color: #0087ff; text-decoration-color: #0087ff\">MaxPooling2D</span>)       │ (<span style=\"color: #00d7ff; text-decoration-color: #00d7ff\">None</span>, <span style=\"color: #00af00; text-decoration-color: #00af00\">13</span>, <span style=\"color: #00af00; text-decoration-color: #00af00\">50</span>, <span style=\"color: #00af00; text-decoration-color: #00af00\">64</span>)          │               <span style=\"color: #00af00; text-decoration-color: #00af00\">0</span> │\n",
       "├──────────────────────────────────────┼─────────────────────────────┼─────────────────┤\n",
       "│ dense_21 (<span style=\"color: #0087ff; text-decoration-color: #0087ff\">Dense</span>)                     │ (<span style=\"color: #00d7ff; text-decoration-color: #00d7ff\">None</span>, <span style=\"color: #00af00; text-decoration-color: #00af00\">13</span>, <span style=\"color: #00af00; text-decoration-color: #00af00\">50</span>, <span style=\"color: #00af00; text-decoration-color: #00af00\">24</span>)          │           <span style=\"color: #00af00; text-decoration-color: #00af00\">1,560</span> │\n",
       "├──────────────────────────────────────┼─────────────────────────────┼─────────────────┤\n",
       "│ dense_22 (<span style=\"color: #0087ff; text-decoration-color: #0087ff\">Dense</span>)                     │ (<span style=\"color: #00d7ff; text-decoration-color: #00d7ff\">None</span>, <span style=\"color: #00af00; text-decoration-color: #00af00\">13</span>, <span style=\"color: #00af00; text-decoration-color: #00af00\">50</span>, <span style=\"color: #00af00; text-decoration-color: #00af00\">24</span>)          │             <span style=\"color: #00af00; text-decoration-color: #00af00\">600</span> │\n",
       "├──────────────────────────────────────┼─────────────────────────────┼─────────────────┤\n",
       "│ flatten_7 (<span style=\"color: #0087ff; text-decoration-color: #0087ff\">Flatten</span>)                  │ (<span style=\"color: #00d7ff; text-decoration-color: #00d7ff\">None</span>, <span style=\"color: #00af00; text-decoration-color: #00af00\">15600</span>)               │               <span style=\"color: #00af00; text-decoration-color: #00af00\">0</span> │\n",
       "├──────────────────────────────────────┼─────────────────────────────┼─────────────────┤\n",
       "│ dense_23 (<span style=\"color: #0087ff; text-decoration-color: #0087ff\">Dense</span>)                     │ (<span style=\"color: #00d7ff; text-decoration-color: #00d7ff\">None</span>, <span style=\"color: #00af00; text-decoration-color: #00af00\">1</span>)                   │          <span style=\"color: #00af00; text-decoration-color: #00af00\">15,601</span> │\n",
       "└──────────────────────────────────────┴─────────────────────────────┴─────────────────┘\n",
       "</pre>\n"
      ],
      "text/plain": [
       "┏━━━━━━━━━━━━━━━━━━━━━━━━━━━━━━━━━━━━━━┳━━━━━━━━━━━━━━━━━━━━━━━━━━━━━┳━━━━━━━━━━━━━━━━━┓\n",
       "┃\u001b[1m \u001b[0m\u001b[1mLayer (type)                        \u001b[0m\u001b[1m \u001b[0m┃\u001b[1m \u001b[0m\u001b[1mOutput Shape               \u001b[0m\u001b[1m \u001b[0m┃\u001b[1m \u001b[0m\u001b[1m        Param #\u001b[0m\u001b[1m \u001b[0m┃\n",
       "┡━━━━━━━━━━━━━━━━━━━━━━━━━━━━━━━━━━━━━━╇━━━━━━━━━━━━━━━━━━━━━━━━━━━━━╇━━━━━━━━━━━━━━━━━┩\n",
       "│ input_layer_7 (\u001b[38;5;33mInputLayer\u001b[0m)           │ (\u001b[38;5;45mNone\u001b[0m, \u001b[38;5;34m13\u001b[0m, \u001b[38;5;34m100\u001b[0m, \u001b[38;5;34m1\u001b[0m)          │               \u001b[38;5;34m0\u001b[0m │\n",
       "├──────────────────────────────────────┼─────────────────────────────┼─────────────────┤\n",
       "│ conv2d_21 (\u001b[38;5;33mConv2D\u001b[0m)                   │ (\u001b[38;5;45mNone\u001b[0m, \u001b[38;5;34m13\u001b[0m, \u001b[38;5;34m100\u001b[0m, \u001b[38;5;34m36\u001b[0m)         │             \u001b[38;5;34m360\u001b[0m │\n",
       "├──────────────────────────────────────┼─────────────────────────────┼─────────────────┤\n",
       "│ conv2d_22 (\u001b[38;5;33mConv2D\u001b[0m)                   │ (\u001b[38;5;45mNone\u001b[0m, \u001b[38;5;34m13\u001b[0m, \u001b[38;5;34m100\u001b[0m, \u001b[38;5;34m64\u001b[0m)         │          \u001b[38;5;34m20,800\u001b[0m │\n",
       "├──────────────────────────────────────┼─────────────────────────────┼─────────────────┤\n",
       "│ conv2d_23 (\u001b[38;5;33mConv2D\u001b[0m)                   │ (\u001b[38;5;45mNone\u001b[0m, \u001b[38;5;34m13\u001b[0m, \u001b[38;5;34m100\u001b[0m, \u001b[38;5;34m64\u001b[0m)         │          \u001b[38;5;34m36,928\u001b[0m │\n",
       "├──────────────────────────────────────┼─────────────────────────────┼─────────────────┤\n",
       "│ max_pooling2d_7 (\u001b[38;5;33mMaxPooling2D\u001b[0m)       │ (\u001b[38;5;45mNone\u001b[0m, \u001b[38;5;34m13\u001b[0m, \u001b[38;5;34m50\u001b[0m, \u001b[38;5;34m64\u001b[0m)          │               \u001b[38;5;34m0\u001b[0m │\n",
       "├──────────────────────────────────────┼─────────────────────────────┼─────────────────┤\n",
       "│ dense_21 (\u001b[38;5;33mDense\u001b[0m)                     │ (\u001b[38;5;45mNone\u001b[0m, \u001b[38;5;34m13\u001b[0m, \u001b[38;5;34m50\u001b[0m, \u001b[38;5;34m24\u001b[0m)          │           \u001b[38;5;34m1,560\u001b[0m │\n",
       "├──────────────────────────────────────┼─────────────────────────────┼─────────────────┤\n",
       "│ dense_22 (\u001b[38;5;33mDense\u001b[0m)                     │ (\u001b[38;5;45mNone\u001b[0m, \u001b[38;5;34m13\u001b[0m, \u001b[38;5;34m50\u001b[0m, \u001b[38;5;34m24\u001b[0m)          │             \u001b[38;5;34m600\u001b[0m │\n",
       "├──────────────────────────────────────┼─────────────────────────────┼─────────────────┤\n",
       "│ flatten_7 (\u001b[38;5;33mFlatten\u001b[0m)                  │ (\u001b[38;5;45mNone\u001b[0m, \u001b[38;5;34m15600\u001b[0m)               │               \u001b[38;5;34m0\u001b[0m │\n",
       "├──────────────────────────────────────┼─────────────────────────────┼─────────────────┤\n",
       "│ dense_23 (\u001b[38;5;33mDense\u001b[0m)                     │ (\u001b[38;5;45mNone\u001b[0m, \u001b[38;5;34m1\u001b[0m)                   │          \u001b[38;5;34m15,601\u001b[0m │\n",
       "└──────────────────────────────────────┴─────────────────────────────┴─────────────────┘\n"
      ]
     },
     "metadata": {},
     "output_type": "display_data"
    },
    {
     "data": {
      "text/html": [
       "<pre style=\"white-space:pre;overflow-x:auto;line-height:normal;font-family:Menlo,'DejaVu Sans Mono',consolas,'Courier New',monospace\"><span style=\"font-weight: bold\"> Total params: </span><span style=\"color: #00af00; text-decoration-color: #00af00\">75,849</span> (296.29 KB)\n",
       "</pre>\n"
      ],
      "text/plain": [
       "\u001b[1m Total params: \u001b[0m\u001b[38;5;34m75,849\u001b[0m (296.29 KB)\n"
      ]
     },
     "metadata": {},
     "output_type": "display_data"
    },
    {
     "data": {
      "text/html": [
       "<pre style=\"white-space:pre;overflow-x:auto;line-height:normal;font-family:Menlo,'DejaVu Sans Mono',consolas,'Courier New',monospace\"><span style=\"font-weight: bold\"> Trainable params: </span><span style=\"color: #00af00; text-decoration-color: #00af00\">75,849</span> (296.29 KB)\n",
       "</pre>\n"
      ],
      "text/plain": [
       "\u001b[1m Trainable params: \u001b[0m\u001b[38;5;34m75,849\u001b[0m (296.29 KB)\n"
      ]
     },
     "metadata": {},
     "output_type": "display_data"
    },
    {
     "data": {
      "text/html": [
       "<pre style=\"white-space:pre;overflow-x:auto;line-height:normal;font-family:Menlo,'DejaVu Sans Mono',consolas,'Courier New',monospace\"><span style=\"font-weight: bold\"> Non-trainable params: </span><span style=\"color: #00af00; text-decoration-color: #00af00\">0</span> (0.00 B)\n",
       "</pre>\n"
      ],
      "text/plain": [
       "\u001b[1m Non-trainable params: \u001b[0m\u001b[38;5;34m0\u001b[0m (0.00 B)\n"
      ]
     },
     "metadata": {},
     "output_type": "display_data"
    },
    {
     "name": "stdout",
     "output_type": "stream",
     "text": [
      "\n",
      "\n",
      "Epoch 1/50\n",
      "\u001b[1m338/338\u001b[0m \u001b[32m━━━━━━━━━━━━━━━━━━━━\u001b[0m\u001b[37m\u001b[0m \u001b[1m9s\u001b[0m 21ms/step - accuracy: 0.9513 - loss: 0.1392 - val_accuracy: 0.9947 - val_loss: 0.0193\n",
      "Epoch 2/50\n",
      "\u001b[1m338/338\u001b[0m \u001b[32m━━━━━━━━━━━━━━━━━━━━\u001b[0m\u001b[37m\u001b[0m \u001b[1m5s\u001b[0m 16ms/step - accuracy: 0.9960 - loss: 0.0138 - val_accuracy: 0.9977 - val_loss: 0.0089\n",
      "Epoch 3/50\n",
      "\u001b[1m338/338\u001b[0m \u001b[32m━━━━━━━━━━━━━━━━━━━━\u001b[0m\u001b[37m\u001b[0m \u001b[1m5s\u001b[0m 16ms/step - accuracy: 0.9983 - loss: 0.0085 - val_accuracy: 0.9981 - val_loss: 0.0082\n",
      "Epoch 4/50\n",
      "\u001b[1m338/338\u001b[0m \u001b[32m━━━━━━━━━━━━━━━━━━━━\u001b[0m\u001b[37m\u001b[0m \u001b[1m5s\u001b[0m 16ms/step - accuracy: 0.9987 - loss: 0.0061 - val_accuracy: 0.9977 - val_loss: 0.0087\n",
      "Epoch 5/50\n",
      "\u001b[1m338/338\u001b[0m \u001b[32m━━━━━━━━━━━━━━━━━━━━\u001b[0m\u001b[37m\u001b[0m \u001b[1m5s\u001b[0m 16ms/step - accuracy: 0.9987 - loss: 0.0046 - val_accuracy: 0.9969 - val_loss: 0.0115\n",
      "Epoch 6/50\n",
      "\u001b[1m338/338\u001b[0m \u001b[32m━━━━━━━━━━━━━━━━━━━━\u001b[0m\u001b[37m\u001b[0m \u001b[1m5s\u001b[0m 16ms/step - accuracy: 0.9986 - loss: 0.0052 - val_accuracy: 0.9981 - val_loss: 0.0070\n",
      "Epoch 7/50\n",
      "\u001b[1m338/338\u001b[0m \u001b[32m━━━━━━━━━━━━━━━━━━━━\u001b[0m\u001b[37m\u001b[0m \u001b[1m5s\u001b[0m 16ms/step - accuracy: 0.9990 - loss: 0.0031 - val_accuracy: 0.9978 - val_loss: 0.0075\n",
      "Epoch 8/50\n",
      "\u001b[1m338/338\u001b[0m \u001b[32m━━━━━━━━━━━━━━━━━━━━\u001b[0m\u001b[37m\u001b[0m \u001b[1m5s\u001b[0m 16ms/step - accuracy: 0.9997 - loss: 0.0013 - val_accuracy: 0.9982 - val_loss: 0.0076\n",
      "Epoch 9/50\n",
      "\u001b[1m338/338\u001b[0m \u001b[32m━━━━━━━━━━━━━━━━━━━━\u001b[0m\u001b[37m\u001b[0m \u001b[1m5s\u001b[0m 16ms/step - accuracy: 0.9999 - loss: 7.0692e-04 - val_accuracy: 0.9970 - val_loss: 0.0153\n",
      "Epoch 10/50\n",
      "\u001b[1m338/338\u001b[0m \u001b[32m━━━━━━━━━━━━━━━━━━━━\u001b[0m\u001b[37m\u001b[0m \u001b[1m6s\u001b[0m 16ms/step - accuracy: 0.9988 - loss: 0.0039 - val_accuracy: 0.9981 - val_loss: 0.0077\n",
      "Epoch 11/50\n",
      "\u001b[1m338/338\u001b[0m \u001b[32m━━━━━━━━━━━━━━━━━━━━\u001b[0m\u001b[37m\u001b[0m \u001b[1m6s\u001b[0m 16ms/step - accuracy: 0.9994 - loss: 0.0015 - val_accuracy: 0.9975 - val_loss: 0.0103\n",
      "CNN Model - Dev Accuracy: 0.9980594515800476\n",
      "CNN Model - Eval Accuracy: 0.9159243702888489\n"
     ]
    }
   ],
   "source": [
    "tf.random.set_seed(seed)\n",
    "np.random.seed(seed)\n",
    "random.seed(seed)\n",
    "del cnn_mfcc_model\n",
    "cnn_mfcc_model, history = cnn_maker(X_train_mfcc, y_train_mfcc, X_dev_mfcc, y_dev_mfcc, X_eval_mfcc, y_eval_mfcc)"
   ]
  },
  {
   "cell_type": "code",
   "execution_count": 41,
   "metadata": {
    "execution": {
     "iopub.execute_input": "2025-03-15T07:49:23.498651Z",
     "iopub.status.busy": "2025-03-15T07:49:23.498263Z",
     "iopub.status.idle": "2025-03-15T07:49:23.905814Z",
     "shell.execute_reply": "2025-03-15T07:49:23.904937Z",
     "shell.execute_reply.started": "2025-03-15T07:49:23.498618Z"
    },
    "trusted": true
   },
   "outputs": [
    {
     "data": {
      "image/png": "[encoded data removed]",
      "text/plain": [
       "<Figure size 1200x500 with 2 Axes>"
      ]
     },
     "metadata": {},
     "output_type": "display_data"
    }
   ],
   "source": [
    "plot_training_history(history)"
   ]
  },
  {
   "cell_type": "code",
   "execution_count": 24,
   "metadata": {
    "execution": {
     "iopub.execute_input": "2025-03-12T02:34:43.083510Z",
     "iopub.status.busy": "2025-03-12T02:34:43.083161Z",
     "iopub.status.idle": "2025-03-12T02:34:45.480213Z",
     "shell.execute_reply": "2025-03-12T02:34:45.479242Z",
     "shell.execute_reply.started": "2025-03-12T02:34:43.083484Z"
    },
    "trusted": true
   },
   "outputs": [
    {
     "name": "stdout",
     "output_type": "stream",
     "text": [
      "\u001b[1m661/661\u001b[0m \u001b[32m━━━━━━━━━━━━━━━━━━━━\u001b[0m\u001b[37m\u001b[0m \u001b[1m2s\u001b[0m 2ms/step\n",
      "ROC AUC: 0.9997071089759081\n",
      "              precision    recall  f1-score   support\n",
      "\n",
      "         0.0       1.00      1.00      1.00     18580\n",
      "         1.0       0.99      0.99      0.99      2548\n",
      "\n",
      "    accuracy                           1.00     21128\n",
      "   macro avg       1.00      0.99      0.99     21128\n",
      "weighted avg       1.00      1.00      1.00     21128\n",
      "\n",
      "CNN EER on validation data: 0.35%\n",
      "CNN Min t-DCF on validation data: 0.0199\n"
     ]
    }
   ],
   "source": [
    "tf.random.set_seed(seed)\n",
    "np.random.seed(seed)\n",
    "random.seed(seed)\n",
    "\n",
    "# Evaluate the model and get the predicted probabilities\n",
    "y_pred_dev = cnn_mfcc_model.predict(X_dev_mfcc)  # Get the predicted probabilities for eval data\n",
    "y_pred_dev_probs_cnn_mfcc = y_pred_dev[:, 0]  # Probability for the positive class (class 1)\n",
    "\n",
    "roc_auc = roc_auc_score(y_dev_mfcc, y_pred_dev_probs_cnn_mfcc)\n",
    "print(f'ROC AUC: {roc_auc}')\n",
    "print(classification_report(y_dev_mfcc, (y_pred_dev_probs_cnn_mfcc >= 0.5).astype(int)))\n",
    "\n",
    "# Evaluate the metrics using eval_metr\n",
    "# Set cost parameters\n",
    "C0 = 0.1588  # Cost of a missed detection\n",
    "C1 = 2.1007  # Cost of a false alarm\n",
    "eer_cnn_mfcc_dev, min_tdcf_cnn_mfcc_dev = eval_metr(y_dev_mfcc, y_pred_dev_probs_cnn_mfcc, C0, C1)\n",
    "\n",
    "# Print the results\n",
    "print(f\"CNN EER on validation data: {eer_cnn_mfcc_dev * 100:.2f}%\")\n",
    "print(f\"CNN Min t-DCF on validation data: {min_tdcf_cnn_mfcc_dev:.4f}\")"
   ]
  },
  {
   "cell_type": "code",
   "execution_count": 25,
   "metadata": {
    "execution": {
     "iopub.execute_input": "2025-03-12T02:34:45.481478Z",
     "iopub.status.busy": "2025-03-12T02:34:45.481186Z",
     "iopub.status.idle": "2025-03-12T02:34:50.991571Z",
     "shell.execute_reply": "2025-03-12T02:34:50.990591Z",
     "shell.execute_reply.started": "2025-03-12T02:34:45.481453Z"
    },
    "trusted": true
   },
   "outputs": [
    {
     "name": "stdout",
     "output_type": "stream",
     "text": [
      "\u001b[1m1920/1920\u001b[0m \u001b[32m━━━━━━━━━━━━━━━━━━━━\u001b[0m\u001b[37m\u001b[0m \u001b[1m3s\u001b[0m 2ms/step\n",
      "ROC AUC: 0.9773073566411432\n",
      "              precision    recall  f1-score   support\n",
      "\n",
      "         0.0       1.00      0.91      0.95     54054\n",
      "         1.0       0.59      0.98      0.74      7355\n",
      "\n",
      "    accuracy                           0.92     61409\n",
      "   macro avg       0.79      0.94      0.84     61409\n",
      "weighted avg       0.95      0.92      0.92     61409\n",
      "\n",
      "CNN EER on testing data: 6.99%\n",
      "CNN Min t-DCF on testing data: 0.5955\n"
     ]
    }
   ],
   "source": [
    "tf.random.set_seed(seed)\n",
    "np.random.seed(seed)\n",
    "random.seed(seed)\n",
    "\n",
    "# Evaluate the model and get the predicted probabilities\n",
    "y_pred_eval = cnn_mfcc_model.predict(X_eval_mfcc)  # Get the predicted probabilities for eval data\n",
    "y_pred_eval_probs_cnn_mfcc = y_pred_eval[:, 0]  # Probability for the positive class (class 1)\n",
    "\n",
    "roc_auc = roc_auc_score(y_eval_mfcc, y_pred_eval_probs_cnn_mfcc)\n",
    "print(f'ROC AUC: {roc_auc}')\n",
    "print(classification_report(y_eval_mfcc, (y_pred_eval_probs_cnn_mfcc >= 0.5).astype(int)))\n",
    "\n",
    "# Evaluate the metrics using eval_metr\n",
    "# Set cost parameters\n",
    "C0 = 0.1847  # Cost of a missed detection\n",
    "C1 = 2.0173  # Cost of a false alarm\n",
    "eer_cnn_mfcc_eval, min_tdcf_cnn_mfcc_eval = eval_metr(y_eval_mfcc, y_pred_eval_probs_cnn_mfcc, C0, C1)\n",
    "\n",
    "# Print the results\n",
    "print(f\"CNN EER on testing data: {eer_cnn_mfcc_eval * 100:.2f}%\")\n",
    "print(f\"CNN Min t-DCF on testing data: {min_tdcf_cnn_mfcc_eval:.4f}\")"
   ]
  },
  {
   "cell_type": "code",
   "execution_count": null,
   "metadata": {
    "trusted": true
   },
   "outputs": [],
   "source": []
  }
 ],
 "metadata": {
  "kaggle": {
   "accelerator": "nvidiaTeslaT4",
   "dataSources": [
    {
     "datasetId": 6323715,
     "isSourceIdPinned": true,
     "sourceId": 10228137,
     "sourceType": "datasetVersion"
    },
    {
     "datasetId": 6774138,
     "sourceId": 10899850,
     "sourceType": "datasetVersion"
    },
    {
     "datasetId": 6794629,
     "sourceId": 10928212,
     "sourceType": "datasetVersion"
    },
    {
     "datasetId": 6823745,
     "isSourceIdPinned": true,
     "sourceId": 10968287,
     "sourceType": "datasetVersion"
    }
   ],
   "dockerImageVersionId": 30918,
   "isGpuEnabled": true,
   "isInternetEnabled": true,
   "language": "python",
   "sourceType": "notebook"
  },
  "kernelspec": {
   "display_name": "Python 3",
   "language": "python",
   "name": "python3"
  },
  "language_info": {
   "codemirror_mode": {
    "name": "ipython",
    "version": 3
   },
   "file_extension": ".py",
   "mimetype": "text/x-python",
   "name": "python",
   "nbconvert_exporter": "python",
   "pygments_lexer": "ipython3",
   "version": "3.10.12"
  }
 },
 "nbformat": 4,
 "nbformat_minor": 4
}
